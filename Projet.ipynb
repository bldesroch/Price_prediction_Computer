{
 "cells": [
  {
   "cell_type": "markdown",
   "metadata": {},
   "source": [
    "# Projet Machine Learning - Cdiscount et ordinateur portable\n",
    "Desroches Blandine ~ M2 Mécen"
   ]
  },
  {
   "cell_type": "markdown",
   "metadata": {},
   "source": [
    "# Scraping des données"
   ]
  },
  {
   "cell_type": "markdown",
   "metadata": {},
   "source": [
    "- Les deux cellules de code pour le scraping sont en raw pour pouvoir run le notebook sans lancer automatiquement le scraping"
   ]
  },
  {
   "cell_type": "raw",
   "metadata": {},
   "source": [
    "import Scraping_projet as sp"
   ]
  },
  {
   "cell_type": "raw",
   "metadata": {},
   "source": [
    "sp.scraping()"
   ]
  },
  {
   "cell_type": "markdown",
   "metadata": {},
   "source": [
    "# Transformation du dataframe"
   ]
  },
  {
   "cell_type": "code",
   "execution_count": 1,
   "metadata": {},
   "outputs": [],
   "source": [
    "import numpy as np\n",
    "import regex as re\n",
    "import json\n",
    "import pandas as pd\n",
    "import matplotlib.pyplot as plt\n",
    "\n",
    "from sklearn.pipeline import make_pipeline"
   ]
  },
  {
   "cell_type": "code",
   "execution_count": 2,
   "metadata": {},
   "outputs": [],
   "source": [
    "import nettoyage_projet as ntp"
   ]
  },
  {
   "cell_type": "code",
   "execution_count": 3,
   "metadata": {},
   "outputs": [],
   "source": [
    "brute = [json.loads(line) for line in open('brute1.json', 'r')]\n",
    "df1 = pd.DataFrame(brute)\n",
    "df1.to_csv(r'brute.csv')\n",
    "df = pd.read_csv(\"brute.csv\", sep=\",\")\n",
    "pd.options.mode.chained_assignment = None  # default='warn'"
   ]
  },
  {
   "cell_type": "markdown",
   "metadata": {},
   "source": [
    "- Base de données brute récupérée par le scraping."
   ]
  },
  {
   "cell_type": "code",
   "execution_count": 4,
   "metadata": {},
   "outputs": [
    {
     "data": {
      "text/html": [
       "<div>\n",
       "<style scoped>\n",
       "    .dataframe tbody tr th:only-of-type {\n",
       "        vertical-align: middle;\n",
       "    }\n",
       "\n",
       "    .dataframe tbody tr th {\n",
       "        vertical-align: top;\n",
       "    }\n",
       "\n",
       "    .dataframe thead th {\n",
       "        text-align: right;\n",
       "    }\n",
       "</style>\n",
       "<table border=\"1\" class=\"dataframe\">\n",
       "  <thead>\n",
       "    <tr style=\"text-align: right;\">\n",
       "      <th></th>\n",
       "      <th>Unnamed: 0</th>\n",
       "      <th>prix</th>\n",
       "      <th>lien</th>\n",
       "      <th>nom</th>\n",
       "      <th>desc</th>\n",
       "    </tr>\n",
       "  </thead>\n",
       "  <tbody>\n",
       "    <tr>\n",
       "      <th>0</th>\n",
       "      <td>0</td>\n",
       "      <td>625€00</td>\n",
       "      <td>https://www.cdiscount.com/informatique/ordinat...</td>\n",
       "      <td>Apple MacBook Pro A1278 MD101 13.3\" Intel Core...</td>\n",
       "      <td>Apple MacBook Pro A1278 MD101 13.3\" Intel Core...</td>\n",
       "    </tr>\n",
       "    <tr>\n",
       "      <th>1</th>\n",
       "      <td>1</td>\n",
       "      <td>1101€99</td>\n",
       "      <td>https://www.cdiscount.com/informatique/ordinat...</td>\n",
       "      <td>ACER PC Portable Gamer Predator - 15,6\" FHD 14...</td>\n",
       "      <td>Processeur : Intel Core i5-9300H, Fréquence 2,...</td>\n",
       "    </tr>\n",
       "    <tr>\n",
       "      <th>2</th>\n",
       "      <td>2</td>\n",
       "      <td>1039€99</td>\n",
       "      <td>https://www.cdiscount.com/informatique/ordinat...</td>\n",
       "      <td>MSI PC Portable - PRESTIGE 14 A10RB-018FR - 14...</td>\n",
       "      <td>Processeur : Intel Core i7 (10ème génération) ...</td>\n",
       "    </tr>\n",
       "    <tr>\n",
       "      <th>3</th>\n",
       "      <td>3</td>\n",
       "      <td>1459€99</td>\n",
       "      <td>https://www.cdiscount.com/informatique/ordinat...</td>\n",
       "      <td>Apple - 13,3\" MacBook Pro Touch Bar (2020) - I...</td>\n",
       "      <td>Usage : Ultraportable &amp; Performant\\nProcesseur...</td>\n",
       "    </tr>\n",
       "    <tr>\n",
       "      <th>4</th>\n",
       "      <td>4</td>\n",
       "      <td>820€69</td>\n",
       "      <td>https://www.cdiscount.com/informatique/ordinat...</td>\n",
       "      <td>LENOVO ThinkBook 15-IIL - Core i5-1035G1 - 8 G...</td>\n",
       "      <td>Usage : Ultraportable &amp; Performant\\nProcesseur...</td>\n",
       "    </tr>\n",
       "  </tbody>\n",
       "</table>\n",
       "</div>"
      ],
      "text/plain": [
       "   Unnamed: 0     prix                                               lien  \\\n",
       "0           0   625€00  https://www.cdiscount.com/informatique/ordinat...   \n",
       "1           1  1101€99  https://www.cdiscount.com/informatique/ordinat...   \n",
       "2           2  1039€99  https://www.cdiscount.com/informatique/ordinat...   \n",
       "3           3  1459€99  https://www.cdiscount.com/informatique/ordinat...   \n",
       "4           4   820€69  https://www.cdiscount.com/informatique/ordinat...   \n",
       "\n",
       "                                                 nom  \\\n",
       "0  Apple MacBook Pro A1278 MD101 13.3\" Intel Core...   \n",
       "1  ACER PC Portable Gamer Predator - 15,6\" FHD 14...   \n",
       "2  MSI PC Portable - PRESTIGE 14 A10RB-018FR - 14...   \n",
       "3  Apple - 13,3\" MacBook Pro Touch Bar (2020) - I...   \n",
       "4  LENOVO ThinkBook 15-IIL - Core i5-1035G1 - 8 G...   \n",
       "\n",
       "                                                desc  \n",
       "0  Apple MacBook Pro A1278 MD101 13.3\" Intel Core...  \n",
       "1  Processeur : Intel Core i5-9300H, Fréquence 2,...  \n",
       "2  Processeur : Intel Core i7 (10ème génération) ...  \n",
       "3  Usage : Ultraportable & Performant\\nProcesseur...  \n",
       "4  Usage : Ultraportable & Performant\\nProcesseur...  "
      ]
     },
     "execution_count": 4,
     "metadata": {},
     "output_type": "execute_result"
    }
   ],
   "source": [
    "df.head()"
   ]
  },
  {
   "cell_type": "code",
   "execution_count": 5,
   "metadata": {},
   "outputs": [],
   "source": [
    "df = (df.pipe(ntp.encodage_prix)\n",
    "      .pipe(ntp.supression_caractere_spe_colonnes))"
   ]
  },
  {
   "cell_type": "code",
   "execution_count": 6,
   "metadata": {},
   "outputs": [
    {
     "data": {
      "text/html": [
       "<div>\n",
       "<style scoped>\n",
       "    .dataframe tbody tr th:only-of-type {\n",
       "        vertical-align: middle;\n",
       "    }\n",
       "\n",
       "    .dataframe tbody tr th {\n",
       "        vertical-align: top;\n",
       "    }\n",
       "\n",
       "    .dataframe thead th {\n",
       "        text-align: right;\n",
       "    }\n",
       "</style>\n",
       "<table border=\"1\" class=\"dataframe\">\n",
       "  <thead>\n",
       "    <tr style=\"text-align: right;\">\n",
       "      <th></th>\n",
       "      <th>Unnamed: 0</th>\n",
       "      <th>prix</th>\n",
       "      <th>lien</th>\n",
       "      <th>nom</th>\n",
       "      <th>desc</th>\n",
       "    </tr>\n",
       "  </thead>\n",
       "  <tbody>\n",
       "    <tr>\n",
       "      <th>0</th>\n",
       "      <td>0</td>\n",
       "      <td>625</td>\n",
       "      <td>https://www.cdiscount.com/informatique/ordinat...</td>\n",
       "      <td>applemacbookproa1278md101133intelcorei525ghz16...</td>\n",
       "      <td>applemacbookproa1278md101133intelcorei525ghzma...</td>\n",
       "    </tr>\n",
       "    <tr>\n",
       "      <th>1</th>\n",
       "      <td>1</td>\n",
       "      <td>1101</td>\n",
       "      <td>https://www.cdiscount.com/informatique/ordinat...</td>\n",
       "      <td>acerpcportablegamerpredator156fhd144hzcorei593...</td>\n",
       "      <td>processeurintelcorei59300hfrquence24ghzturbo41...</td>\n",
       "    </tr>\n",
       "    <tr>\n",
       "      <th>2</th>\n",
       "      <td>2</td>\n",
       "      <td>1039</td>\n",
       "      <td>https://www.cdiscount.com/informatique/ordinat...</td>\n",
       "      <td>msipcportableprestige14a10rb018fr14fhdcorei710...</td>\n",
       "      <td>processeurintelcorei710megnration10510uram16go...</td>\n",
       "    </tr>\n",
       "    <tr>\n",
       "      <th>3</th>\n",
       "      <td>3</td>\n",
       "      <td>1459</td>\n",
       "      <td>https://www.cdiscount.com/informatique/ordinat...</td>\n",
       "      <td>apple133macbookprotouchbar2020intelcorei5ram8g...</td>\n",
       "      <td>usageultraportableperformantprocesseurintelcor...</td>\n",
       "    </tr>\n",
       "    <tr>\n",
       "      <th>4</th>\n",
       "      <td>4</td>\n",
       "      <td>820</td>\n",
       "      <td>https://www.cdiscount.com/informatique/ordinat...</td>\n",
       "      <td>lenovothinkbook15iilcorei51035g18goram256gossd...</td>\n",
       "      <td>usageultraportableperformantprocesseurintelcor...</td>\n",
       "    </tr>\n",
       "  </tbody>\n",
       "</table>\n",
       "</div>"
      ],
      "text/plain": [
       "   Unnamed: 0  prix                                               lien  \\\n",
       "0           0   625  https://www.cdiscount.com/informatique/ordinat...   \n",
       "1           1  1101  https://www.cdiscount.com/informatique/ordinat...   \n",
       "2           2  1039  https://www.cdiscount.com/informatique/ordinat...   \n",
       "3           3  1459  https://www.cdiscount.com/informatique/ordinat...   \n",
       "4           4   820  https://www.cdiscount.com/informatique/ordinat...   \n",
       "\n",
       "                                                 nom  \\\n",
       "0  applemacbookproa1278md101133intelcorei525ghz16...   \n",
       "1  acerpcportablegamerpredator156fhd144hzcorei593...   \n",
       "2  msipcportableprestige14a10rb018fr14fhdcorei710...   \n",
       "3  apple133macbookprotouchbar2020intelcorei5ram8g...   \n",
       "4  lenovothinkbook15iilcorei51035g18goram256gossd...   \n",
       "\n",
       "                                                desc  \n",
       "0  applemacbookproa1278md101133intelcorei525ghzma...  \n",
       "1  processeurintelcorei59300hfrquence24ghzturbo41...  \n",
       "2  processeurintelcorei710megnration10510uram16go...  \n",
       "3  usageultraportableperformantprocesseurintelcor...  \n",
       "4  usageultraportableperformantprocesseurintelcor...  "
      ]
     },
     "execution_count": 6,
     "metadata": {},
     "output_type": "execute_result"
    }
   ],
   "source": [
    "df.head()"
   ]
  },
  {
   "cell_type": "markdown",
   "metadata": {},
   "source": [
    "### Gestion colonne processeur\n",
    "- Création nouvelle colonne proc\n",
    "\n",
    "\n",
    "- Valeur possible : 0 = i5 ; 1 = i7 ; 2 = i3 ; 3 = AMD Ryzen 7; 4 = AMD Ryzen 5 ;\n"
   ]
  },
  {
   "cell_type": "code",
   "execution_count": 7,
   "metadata": {},
   "outputs": [
    {
     "data": {
      "text/html": [
       "<div>\n",
       "<style scoped>\n",
       "    .dataframe tbody tr th:only-of-type {\n",
       "        vertical-align: middle;\n",
       "    }\n",
       "\n",
       "    .dataframe tbody tr th {\n",
       "        vertical-align: top;\n",
       "    }\n",
       "\n",
       "    .dataframe thead th {\n",
       "        text-align: right;\n",
       "    }\n",
       "</style>\n",
       "<table border=\"1\" class=\"dataframe\">\n",
       "  <thead>\n",
       "    <tr style=\"text-align: right;\">\n",
       "      <th></th>\n",
       "      <th>Unnamed: 0</th>\n",
       "      <th>prix</th>\n",
       "      <th>lien</th>\n",
       "      <th>nom</th>\n",
       "      <th>desc</th>\n",
       "      <th>proc</th>\n",
       "    </tr>\n",
       "  </thead>\n",
       "  <tbody>\n",
       "    <tr>\n",
       "      <th>0</th>\n",
       "      <td>0</td>\n",
       "      <td>625</td>\n",
       "      <td>https://www.cdiscount.com/informatique/ordinat...</td>\n",
       "      <td>applemacbookproa1278md101133intelcorei525ghz16...</td>\n",
       "      <td>applemacbookproa1278md101133intelcorei525ghzma...</td>\n",
       "      <td>0</td>\n",
       "    </tr>\n",
       "    <tr>\n",
       "      <th>1</th>\n",
       "      <td>1</td>\n",
       "      <td>1101</td>\n",
       "      <td>https://www.cdiscount.com/informatique/ordinat...</td>\n",
       "      <td>acerpcportablegamerpredator156fhd144hzcorei593...</td>\n",
       "      <td>processeurintelcorei59300hfrquence24ghzturbo41...</td>\n",
       "      <td>0</td>\n",
       "    </tr>\n",
       "    <tr>\n",
       "      <th>2</th>\n",
       "      <td>2</td>\n",
       "      <td>1039</td>\n",
       "      <td>https://www.cdiscount.com/informatique/ordinat...</td>\n",
       "      <td>msipcportableprestige14a10rb018fr14fhdcorei710...</td>\n",
       "      <td>processeurintelcorei710megnration10510uram16go...</td>\n",
       "      <td>1</td>\n",
       "    </tr>\n",
       "    <tr>\n",
       "      <th>3</th>\n",
       "      <td>3</td>\n",
       "      <td>1459</td>\n",
       "      <td>https://www.cdiscount.com/informatique/ordinat...</td>\n",
       "      <td>apple133macbookprotouchbar2020intelcorei5ram8g...</td>\n",
       "      <td>usageultraportableperformantprocesseurintelcor...</td>\n",
       "      <td>0</td>\n",
       "    </tr>\n",
       "    <tr>\n",
       "      <th>4</th>\n",
       "      <td>4</td>\n",
       "      <td>820</td>\n",
       "      <td>https://www.cdiscount.com/informatique/ordinat...</td>\n",
       "      <td>lenovothinkbook15iilcorei51035g18goram256gossd...</td>\n",
       "      <td>usageultraportableperformantprocesseurintelcor...</td>\n",
       "      <td>0</td>\n",
       "    </tr>\n",
       "  </tbody>\n",
       "</table>\n",
       "</div>"
      ],
      "text/plain": [
       "   Unnamed: 0  prix                                               lien  \\\n",
       "0           0   625  https://www.cdiscount.com/informatique/ordinat...   \n",
       "1           1  1101  https://www.cdiscount.com/informatique/ordinat...   \n",
       "2           2  1039  https://www.cdiscount.com/informatique/ordinat...   \n",
       "3           3  1459  https://www.cdiscount.com/informatique/ordinat...   \n",
       "4           4   820  https://www.cdiscount.com/informatique/ordinat...   \n",
       "\n",
       "                                                 nom  \\\n",
       "0  applemacbookproa1278md101133intelcorei525ghz16...   \n",
       "1  acerpcportablegamerpredator156fhd144hzcorei593...   \n",
       "2  msipcportableprestige14a10rb018fr14fhdcorei710...   \n",
       "3  apple133macbookprotouchbar2020intelcorei5ram8g...   \n",
       "4  lenovothinkbook15iilcorei51035g18goram256gossd...   \n",
       "\n",
       "                                                desc  proc  \n",
       "0  applemacbookproa1278md101133intelcorei525ghzma...     0  \n",
       "1  processeurintelcorei59300hfrquence24ghzturbo41...     0  \n",
       "2  processeurintelcorei710megnration10510uram16go...     1  \n",
       "3  usageultraportableperformantprocesseurintelcor...     0  \n",
       "4  usageultraportableperformantprocesseurintelcor...     0  "
      ]
     },
     "execution_count": 7,
     "metadata": {},
     "output_type": "execute_result"
    }
   ],
   "source": [
    "df = (df.pipe(ntp.encodage_processeur))\n",
    "df.head()"
   ]
  },
  {
   "cell_type": "markdown",
   "metadata": {},
   "source": [
    "### Gestion colonne RAM\n",
    "- Création nouvelle colonne ram ;\n",
    "- Valeur possible : 0 = 2Go ; 1 = 4Go ; 2 = 8Go ; 3 = 16Go ; 4 = 32Go"
   ]
  },
  {
   "cell_type": "code",
   "execution_count": 8,
   "metadata": {},
   "outputs": [
    {
     "data": {
      "text/html": [
       "<div>\n",
       "<style scoped>\n",
       "    .dataframe tbody tr th:only-of-type {\n",
       "        vertical-align: middle;\n",
       "    }\n",
       "\n",
       "    .dataframe tbody tr th {\n",
       "        vertical-align: top;\n",
       "    }\n",
       "\n",
       "    .dataframe thead th {\n",
       "        text-align: right;\n",
       "    }\n",
       "</style>\n",
       "<table border=\"1\" class=\"dataframe\">\n",
       "  <thead>\n",
       "    <tr style=\"text-align: right;\">\n",
       "      <th></th>\n",
       "      <th>Unnamed: 0</th>\n",
       "      <th>prix</th>\n",
       "      <th>lien</th>\n",
       "      <th>nom</th>\n",
       "      <th>desc</th>\n",
       "      <th>proc</th>\n",
       "      <th>ram</th>\n",
       "    </tr>\n",
       "  </thead>\n",
       "  <tbody>\n",
       "    <tr>\n",
       "      <th>0</th>\n",
       "      <td>0</td>\n",
       "      <td>625</td>\n",
       "      <td>https://www.cdiscount.com/informatique/ordinat...</td>\n",
       "      <td>applemacbookproa1278md101133intelcorei525ghz16...</td>\n",
       "      <td>applemacbookproa1278md101133intelcorei525ghzma...</td>\n",
       "      <td>0</td>\n",
       "      <td>3</td>\n",
       "    </tr>\n",
       "    <tr>\n",
       "      <th>1</th>\n",
       "      <td>1</td>\n",
       "      <td>1101</td>\n",
       "      <td>https://www.cdiscount.com/informatique/ordinat...</td>\n",
       "      <td>acerpcportablegamerpredator156fhd144hzcorei593...</td>\n",
       "      <td>processeurintelcorei59300hfrquence24ghzturbo41...</td>\n",
       "      <td>0</td>\n",
       "      <td>2</td>\n",
       "    </tr>\n",
       "    <tr>\n",
       "      <th>2</th>\n",
       "      <td>2</td>\n",
       "      <td>1039</td>\n",
       "      <td>https://www.cdiscount.com/informatique/ordinat...</td>\n",
       "      <td>msipcportableprestige14a10rb018fr14fhdcorei710...</td>\n",
       "      <td>processeurintelcorei710megnration10510uram16go...</td>\n",
       "      <td>1</td>\n",
       "      <td>3</td>\n",
       "    </tr>\n",
       "    <tr>\n",
       "      <th>3</th>\n",
       "      <td>3</td>\n",
       "      <td>1459</td>\n",
       "      <td>https://www.cdiscount.com/informatique/ordinat...</td>\n",
       "      <td>apple133macbookprotouchbar2020intelcorei5ram8g...</td>\n",
       "      <td>usageultraportableperformantprocesseurintelcor...</td>\n",
       "      <td>0</td>\n",
       "      <td>2</td>\n",
       "    </tr>\n",
       "    <tr>\n",
       "      <th>4</th>\n",
       "      <td>4</td>\n",
       "      <td>820</td>\n",
       "      <td>https://www.cdiscount.com/informatique/ordinat...</td>\n",
       "      <td>lenovothinkbook15iilcorei51035g18goram256gossd...</td>\n",
       "      <td>usageultraportableperformantprocesseurintelcor...</td>\n",
       "      <td>0</td>\n",
       "      <td>2</td>\n",
       "    </tr>\n",
       "  </tbody>\n",
       "</table>\n",
       "</div>"
      ],
      "text/plain": [
       "   Unnamed: 0  prix                                               lien  \\\n",
       "0           0   625  https://www.cdiscount.com/informatique/ordinat...   \n",
       "1           1  1101  https://www.cdiscount.com/informatique/ordinat...   \n",
       "2           2  1039  https://www.cdiscount.com/informatique/ordinat...   \n",
       "3           3  1459  https://www.cdiscount.com/informatique/ordinat...   \n",
       "4           4   820  https://www.cdiscount.com/informatique/ordinat...   \n",
       "\n",
       "                                                 nom  \\\n",
       "0  applemacbookproa1278md101133intelcorei525ghz16...   \n",
       "1  acerpcportablegamerpredator156fhd144hzcorei593...   \n",
       "2  msipcportableprestige14a10rb018fr14fhdcorei710...   \n",
       "3  apple133macbookprotouchbar2020intelcorei5ram8g...   \n",
       "4  lenovothinkbook15iilcorei51035g18goram256gossd...   \n",
       "\n",
       "                                                desc  proc  ram  \n",
       "0  applemacbookproa1278md101133intelcorei525ghzma...     0    3  \n",
       "1  processeurintelcorei59300hfrquence24ghzturbo41...     0    2  \n",
       "2  processeurintelcorei710megnration10510uram16go...     1    3  \n",
       "3  usageultraportableperformantprocesseurintelcor...     0    2  \n",
       "4  usageultraportableperformantprocesseurintelcor...     0    2  "
      ]
     },
     "execution_count": 8,
     "metadata": {},
     "output_type": "execute_result"
    }
   ],
   "source": [
    "df = (df.pipe(ntp.encodage_ram))\n",
    "df.head()"
   ]
  },
  {
   "cell_type": "markdown",
   "metadata": {},
   "source": [
    "### Colonne marque\n",
    "- Création nouvelle colonne marq ;\n",
    "- Valeur possible : 0 = Asus ; 1 = Apple ; 2 = Lenovo ; 3 = Acer ; 4 = Hp ; 5 = Huawei ; 6 = MSI ; 7 = Dell"
   ]
  },
  {
   "cell_type": "code",
   "execution_count": 9,
   "metadata": {},
   "outputs": [],
   "source": [
    "df = (df.pipe(ntp.encodage_marque))"
   ]
  },
  {
   "cell_type": "code",
   "execution_count": 10,
   "metadata": {},
   "outputs": [
    {
     "data": {
      "text/html": [
       "<div>\n",
       "<style scoped>\n",
       "    .dataframe tbody tr th:only-of-type {\n",
       "        vertical-align: middle;\n",
       "    }\n",
       "\n",
       "    .dataframe tbody tr th {\n",
       "        vertical-align: top;\n",
       "    }\n",
       "\n",
       "    .dataframe thead th {\n",
       "        text-align: right;\n",
       "    }\n",
       "</style>\n",
       "<table border=\"1\" class=\"dataframe\">\n",
       "  <thead>\n",
       "    <tr style=\"text-align: right;\">\n",
       "      <th></th>\n",
       "      <th>prix</th>\n",
       "      <th>proc</th>\n",
       "      <th>ram</th>\n",
       "      <th>marq</th>\n",
       "    </tr>\n",
       "  </thead>\n",
       "  <tbody>\n",
       "    <tr>\n",
       "      <th>0</th>\n",
       "      <td>625</td>\n",
       "      <td>0</td>\n",
       "      <td>3</td>\n",
       "      <td>1</td>\n",
       "    </tr>\n",
       "    <tr>\n",
       "      <th>1</th>\n",
       "      <td>1101</td>\n",
       "      <td>0</td>\n",
       "      <td>2</td>\n",
       "      <td>3</td>\n",
       "    </tr>\n",
       "    <tr>\n",
       "      <th>2</th>\n",
       "      <td>1039</td>\n",
       "      <td>1</td>\n",
       "      <td>3</td>\n",
       "      <td>6</td>\n",
       "    </tr>\n",
       "    <tr>\n",
       "      <th>3</th>\n",
       "      <td>1459</td>\n",
       "      <td>0</td>\n",
       "      <td>2</td>\n",
       "      <td>1</td>\n",
       "    </tr>\n",
       "    <tr>\n",
       "      <th>4</th>\n",
       "      <td>820</td>\n",
       "      <td>0</td>\n",
       "      <td>2</td>\n",
       "      <td>2</td>\n",
       "    </tr>\n",
       "  </tbody>\n",
       "</table>\n",
       "</div>"
      ],
      "text/plain": [
       "   prix  proc  ram  marq\n",
       "0   625     0    3     1\n",
       "1  1101     0    2     3\n",
       "2  1039     1    3     6\n",
       "3  1459     0    2     1\n",
       "4   820     0    2     2"
      ]
     },
     "execution_count": 10,
     "metadata": {},
     "output_type": "execute_result"
    }
   ],
   "source": [
    "df = (df.pipe(ntp.suppression_colonnes_inutiles))\n",
    "df.head()"
   ]
  },
  {
   "cell_type": "code",
   "execution_count": 11,
   "metadata": {},
   "outputs": [
    {
     "name": "stdout",
     "output_type": "stream",
     "text": [
      "prix    False\n",
      "proc    False\n",
      "ram     False\n",
      "marq    False\n",
      "dtype: bool\n"
     ]
    }
   ],
   "source": [
    "ntp.verification_valeur_manquante(df)"
   ]
  },
  {
   "cell_type": "markdown",
   "metadata": {},
   "source": [
    "Pas de données manquantes"
   ]
  },
  {
   "cell_type": "code",
   "execution_count": 12,
   "metadata": {},
   "outputs": [],
   "source": [
    "df.to_csv(r'propre.csv')\n",
    "propre = pd.read_csv(\"propre.csv\", sep=\",\")"
   ]
  },
  {
   "cell_type": "code",
   "execution_count": 13,
   "metadata": {},
   "outputs": [],
   "source": [
    "df = (\n",
    "    propre\n",
    "    .pipe(ntp.conversion_types)  \n",
    "    .pipe(ntp.numerise_les_colonnes)\n",
    "    .pipe(ntp.suppression_colonne)   \n",
    ")"
   ]
  },
  {
   "cell_type": "code",
   "execution_count": 14,
   "metadata": {},
   "outputs": [
    {
     "data": {
      "text/plain": [
       "prix    Int64\n",
       "proc    Int64\n",
       "ram     int64\n",
       "marq    Int64\n",
       "dtype: object"
      ]
     },
     "execution_count": 14,
     "metadata": {},
     "output_type": "execute_result"
    }
   ],
   "source": [
    "df.dtypes"
   ]
  },
  {
   "cell_type": "markdown",
   "metadata": {},
   "source": [
    "# Analyse statistiques de la base données"
   ]
  },
  {
   "cell_type": "code",
   "execution_count": 15,
   "metadata": {},
   "outputs": [
    {
     "data": {
      "text/html": [
       "<div>\n",
       "<style scoped>\n",
       "    .dataframe tbody tr th:only-of-type {\n",
       "        vertical-align: middle;\n",
       "    }\n",
       "\n",
       "    .dataframe tbody tr th {\n",
       "        vertical-align: top;\n",
       "    }\n",
       "\n",
       "    .dataframe thead th {\n",
       "        text-align: right;\n",
       "    }\n",
       "</style>\n",
       "<table border=\"1\" class=\"dataframe\">\n",
       "  <thead>\n",
       "    <tr style=\"text-align: right;\">\n",
       "      <th></th>\n",
       "      <th>prix</th>\n",
       "      <th>proc</th>\n",
       "      <th>ram</th>\n",
       "      <th>marq</th>\n",
       "    </tr>\n",
       "  </thead>\n",
       "  <tbody>\n",
       "    <tr>\n",
       "      <th>count</th>\n",
       "      <td>1137.000000</td>\n",
       "      <td>1137.000000</td>\n",
       "      <td>1137.000000</td>\n",
       "      <td>1137.000000</td>\n",
       "    </tr>\n",
       "    <tr>\n",
       "      <th>mean</th>\n",
       "      <td>843.651715</td>\n",
       "      <td>0.493404</td>\n",
       "      <td>2.811785</td>\n",
       "      <td>2.856640</td>\n",
       "    </tr>\n",
       "    <tr>\n",
       "      <th>std</th>\n",
       "      <td>547.966744</td>\n",
       "      <td>0.838237</td>\n",
       "      <td>1.119498</td>\n",
       "      <td>2.106252</td>\n",
       "    </tr>\n",
       "    <tr>\n",
       "      <th>min</th>\n",
       "      <td>106.000000</td>\n",
       "      <td>0.000000</td>\n",
       "      <td>1.000000</td>\n",
       "      <td>0.000000</td>\n",
       "    </tr>\n",
       "    <tr>\n",
       "      <th>25%</th>\n",
       "      <td>468.000000</td>\n",
       "      <td>0.000000</td>\n",
       "      <td>2.000000</td>\n",
       "      <td>1.000000</td>\n",
       "    </tr>\n",
       "    <tr>\n",
       "      <th>50%</th>\n",
       "      <td>645.000000</td>\n",
       "      <td>0.000000</td>\n",
       "      <td>3.000000</td>\n",
       "      <td>2.000000</td>\n",
       "    </tr>\n",
       "    <tr>\n",
       "      <th>75%</th>\n",
       "      <td>1099.000000</td>\n",
       "      <td>1.000000</td>\n",
       "      <td>4.000000</td>\n",
       "      <td>4.000000</td>\n",
       "    </tr>\n",
       "    <tr>\n",
       "      <th>max</th>\n",
       "      <td>4924.000000</td>\n",
       "      <td>4.000000</td>\n",
       "      <td>4.000000</td>\n",
       "      <td>7.000000</td>\n",
       "    </tr>\n",
       "  </tbody>\n",
       "</table>\n",
       "</div>"
      ],
      "text/plain": [
       "              prix         proc          ram         marq\n",
       "count  1137.000000  1137.000000  1137.000000  1137.000000\n",
       "mean    843.651715     0.493404     2.811785     2.856640\n",
       "std     547.966744     0.838237     1.119498     2.106252\n",
       "min     106.000000     0.000000     1.000000     0.000000\n",
       "25%     468.000000     0.000000     2.000000     1.000000\n",
       "50%     645.000000     0.000000     3.000000     2.000000\n",
       "75%    1099.000000     1.000000     4.000000     4.000000\n",
       "max    4924.000000     4.000000     4.000000     7.000000"
      ]
     },
     "execution_count": 15,
     "metadata": {},
     "output_type": "execute_result"
    }
   ],
   "source": [
    "df.describe()"
   ]
  },
  {
   "cell_type": "code",
   "execution_count": 16,
   "metadata": {},
   "outputs": [
    {
     "data": {
      "image/png": "[encoded data removed]",
      "text/plain": [
       "<Figure size 432x288 with 1 Axes>"
      ]
     },
     "metadata": {},
     "output_type": "display_data"
    },
    {
     "data": {
      "image/png": "[encoded data removed]",
      "text/plain": [
       "<Figure size 432x288 with 1 Axes>"
      ]
     },
     "metadata": {},
     "output_type": "display_data"
    },
    {
     "data": {
      "image/png": "[encoded data removed]",
      "text/plain": [
       "<Figure size 432x288 with 1 Axes>"
      ]
     },
     "metadata": {},
     "output_type": "display_data"
    }
   ],
   "source": [
    "ntp.pie_chart(df)"
   ]
  },
  {
   "cell_type": "code",
   "execution_count": 17,
   "metadata": {},
   "outputs": [
    {
     "data": {
      "image/png": "[encoded data removed]",
      "text/plain": [
       "<Figure size 432x288 with 1 Axes>"
      ]
     },
     "metadata": {
      "needs_background": "light"
     },
     "output_type": "display_data"
    }
   ],
   "source": [
    "ntp.densité_prix(df)"
   ]
  },
  {
   "cell_type": "code",
   "execution_count": 18,
   "metadata": {},
   "outputs": [
    {
     "data": {
      "image/png": "[encoded data removed]",
      "text/plain": [
       "<Figure size 432x288 with 1 Axes>"
      ]
     },
     "metadata": {
      "needs_background": "light"
     },
     "output_type": "display_data"
    }
   ],
   "source": [
    "ntp.densité_log_prix(df)"
   ]
  },
  {
   "cell_type": "code",
   "execution_count": 19,
   "metadata": {},
   "outputs": [
    {
     "data": {
      "text/plain": [
       "array([[<matplotlib.axes._subplots.AxesSubplot object at 0x000002565DFFC400>,\n",
       "        <matplotlib.axes._subplots.AxesSubplot object at 0x000002565E01FE80>],\n",
       "       [<matplotlib.axes._subplots.AxesSubplot object at 0x000002565E042E50>,\n",
       "        <matplotlib.axes._subplots.AxesSubplot object at 0x000002565E072D00>]],\n",
       "      dtype=object)"
      ]
     },
     "execution_count": 19,
     "metadata": {},
     "output_type": "execute_result"
    },
    {
     "data": {
      "image/png": "[encoded data removed]",
      "text/plain": [
       "<Figure size 432x288 with 4 Axes>"
      ]
     },
     "metadata": {
      "needs_background": "light"
     },
     "output_type": "display_data"
    }
   ],
   "source": [
    "df.boxplot(by='marq')"
   ]
  },
  {
   "cell_type": "code",
   "execution_count": 20,
   "metadata": {},
   "outputs": [
    {
     "name": "stdout",
     "output_type": "stream",
     "text": [
      "          prix      proc       ram\n",
      "marq                              \n",
      "0     7.048780  1.274510  2.882353\n",
      "1     6.574745  0.265193  2.511050\n",
      "2     6.198069  0.368644  3.148305\n",
      "3     7.026963  1.105263  2.684211\n",
      "4     6.476530  0.494949  2.767677\n",
      "5     6.985546  2.000000  2.461538\n",
      "6     7.317503  0.871795  2.820513\n",
      "7     6.411961  0.300813  3.203252\n",
      "          prix       ram      marq\n",
      "proc                              \n",
      "0     6.369916  2.792683  2.743902\n",
      "1     7.059432  2.908197  3.104918\n",
      "2     6.356406  2.509434  2.905660\n",
      "3     6.888791  3.142857  2.285714\n",
      "4     6.721588  2.666667  3.333333\n",
      "         prix      proc      marq\n",
      "ram                              \n",
      "1    6.285821  0.378698  2.082840\n",
      "2    6.707963  0.509036  2.825301\n",
      "3    7.222511  0.783333  3.461111\n",
      "4    6.314783  0.410088  2.927632\n"
     ]
    }
   ],
   "source": [
    "ntp.moyenne_par_groupe(df)"
   ]
  },
  {
   "cell_type": "code",
   "execution_count": 21,
   "metadata": {},
   "outputs": [],
   "source": [
    "df = (df.pipe(ntp.onehot_colonne_proc)\n",
    "      .pipe(ntp.onehot_colonne_ram)\n",
    "      .pipe(ntp.onehot_colonne_marq)\n",
    "      .pipe(ntp.suppression_colonnes_inutiles_2))"
   ]
  },
  {
   "cell_type": "code",
   "execution_count": 22,
   "metadata": {},
   "outputs": [
    {
     "data": {
      "text/html": [
       "<div>\n",
       "<style scoped>\n",
       "    .dataframe tbody tr th:only-of-type {\n",
       "        vertical-align: middle;\n",
       "    }\n",
       "\n",
       "    .dataframe tbody tr th {\n",
       "        vertical-align: top;\n",
       "    }\n",
       "\n",
       "    .dataframe thead th {\n",
       "        text-align: right;\n",
       "    }\n",
       "</style>\n",
       "<table border=\"1\" class=\"dataframe\">\n",
       "  <thead>\n",
       "    <tr style=\"text-align: right;\">\n",
       "      <th></th>\n",
       "      <th>prix</th>\n",
       "      <th>Intel Core i5</th>\n",
       "      <th>Intel Core i7</th>\n",
       "      <th>Intel Core i3</th>\n",
       "      <th>AMD Ryzen 7</th>\n",
       "      <th>AMD Ryzen 5</th>\n",
       "      <th>4 Go RAM</th>\n",
       "      <th>8 Go RAM</th>\n",
       "      <th>16 Go RAM</th>\n",
       "      <th>X Go RAM</th>\n",
       "      <th>Asus</th>\n",
       "      <th>Apple</th>\n",
       "      <th>Lenovo</th>\n",
       "      <th>Acer</th>\n",
       "      <th>Hp</th>\n",
       "      <th>Huawei</th>\n",
       "      <th>MSI</th>\n",
       "      <th>Dell</th>\n",
       "    </tr>\n",
       "  </thead>\n",
       "  <tbody>\n",
       "    <tr>\n",
       "      <th>0</th>\n",
       "      <td>6.437752</td>\n",
       "      <td>1.0</td>\n",
       "      <td>0.0</td>\n",
       "      <td>0.0</td>\n",
       "      <td>0.0</td>\n",
       "      <td>0.0</td>\n",
       "      <td>0.0</td>\n",
       "      <td>0.0</td>\n",
       "      <td>1.0</td>\n",
       "      <td>0.0</td>\n",
       "      <td>0.0</td>\n",
       "      <td>1.0</td>\n",
       "      <td>0.0</td>\n",
       "      <td>0.0</td>\n",
       "      <td>0.0</td>\n",
       "      <td>0.0</td>\n",
       "      <td>0.0</td>\n",
       "      <td>0.0</td>\n",
       "    </tr>\n",
       "    <tr>\n",
       "      <th>1</th>\n",
       "      <td>7.003974</td>\n",
       "      <td>1.0</td>\n",
       "      <td>0.0</td>\n",
       "      <td>0.0</td>\n",
       "      <td>0.0</td>\n",
       "      <td>0.0</td>\n",
       "      <td>0.0</td>\n",
       "      <td>1.0</td>\n",
       "      <td>0.0</td>\n",
       "      <td>0.0</td>\n",
       "      <td>0.0</td>\n",
       "      <td>0.0</td>\n",
       "      <td>0.0</td>\n",
       "      <td>1.0</td>\n",
       "      <td>0.0</td>\n",
       "      <td>0.0</td>\n",
       "      <td>0.0</td>\n",
       "      <td>0.0</td>\n",
       "    </tr>\n",
       "    <tr>\n",
       "      <th>2</th>\n",
       "      <td>6.946014</td>\n",
       "      <td>0.0</td>\n",
       "      <td>1.0</td>\n",
       "      <td>0.0</td>\n",
       "      <td>0.0</td>\n",
       "      <td>0.0</td>\n",
       "      <td>0.0</td>\n",
       "      <td>0.0</td>\n",
       "      <td>1.0</td>\n",
       "      <td>0.0</td>\n",
       "      <td>0.0</td>\n",
       "      <td>0.0</td>\n",
       "      <td>0.0</td>\n",
       "      <td>0.0</td>\n",
       "      <td>0.0</td>\n",
       "      <td>0.0</td>\n",
       "      <td>1.0</td>\n",
       "      <td>0.0</td>\n",
       "    </tr>\n",
       "    <tr>\n",
       "      <th>3</th>\n",
       "      <td>7.285507</td>\n",
       "      <td>1.0</td>\n",
       "      <td>0.0</td>\n",
       "      <td>0.0</td>\n",
       "      <td>0.0</td>\n",
       "      <td>0.0</td>\n",
       "      <td>0.0</td>\n",
       "      <td>1.0</td>\n",
       "      <td>0.0</td>\n",
       "      <td>0.0</td>\n",
       "      <td>0.0</td>\n",
       "      <td>1.0</td>\n",
       "      <td>0.0</td>\n",
       "      <td>0.0</td>\n",
       "      <td>0.0</td>\n",
       "      <td>0.0</td>\n",
       "      <td>0.0</td>\n",
       "      <td>0.0</td>\n",
       "    </tr>\n",
       "    <tr>\n",
       "      <th>4</th>\n",
       "      <td>6.709304</td>\n",
       "      <td>1.0</td>\n",
       "      <td>0.0</td>\n",
       "      <td>0.0</td>\n",
       "      <td>0.0</td>\n",
       "      <td>0.0</td>\n",
       "      <td>0.0</td>\n",
       "      <td>1.0</td>\n",
       "      <td>0.0</td>\n",
       "      <td>0.0</td>\n",
       "      <td>0.0</td>\n",
       "      <td>0.0</td>\n",
       "      <td>1.0</td>\n",
       "      <td>0.0</td>\n",
       "      <td>0.0</td>\n",
       "      <td>0.0</td>\n",
       "      <td>0.0</td>\n",
       "      <td>0.0</td>\n",
       "    </tr>\n",
       "  </tbody>\n",
       "</table>\n",
       "</div>"
      ],
      "text/plain": [
       "       prix  Intel Core i5  Intel Core i7  Intel Core i3  AMD Ryzen 7  \\\n",
       "0  6.437752            1.0            0.0            0.0          0.0   \n",
       "1  7.003974            1.0            0.0            0.0          0.0   \n",
       "2  6.946014            0.0            1.0            0.0          0.0   \n",
       "3  7.285507            1.0            0.0            0.0          0.0   \n",
       "4  6.709304            1.0            0.0            0.0          0.0   \n",
       "\n",
       "   AMD Ryzen 5  4 Go RAM  8 Go RAM  16 Go RAM  X Go RAM  Asus  Apple  Lenovo  \\\n",
       "0          0.0       0.0       0.0        1.0       0.0   0.0    1.0     0.0   \n",
       "1          0.0       0.0       1.0        0.0       0.0   0.0    0.0     0.0   \n",
       "2          0.0       0.0       0.0        1.0       0.0   0.0    0.0     0.0   \n",
       "3          0.0       0.0       1.0        0.0       0.0   0.0    1.0     0.0   \n",
       "4          0.0       0.0       1.0        0.0       0.0   0.0    0.0     1.0   \n",
       "\n",
       "   Acer   Hp  Huawei  MSI  Dell  \n",
       "0   0.0  0.0     0.0  0.0   0.0  \n",
       "1   1.0  0.0     0.0  0.0   0.0  \n",
       "2   0.0  0.0     0.0  1.0   0.0  \n",
       "3   0.0  0.0     0.0  0.0   0.0  \n",
       "4   0.0  0.0     0.0  0.0   0.0  "
      ]
     },
     "execution_count": 22,
     "metadata": {},
     "output_type": "execute_result"
    }
   ],
   "source": [
    "df.head()"
   ]
  },
  {
   "cell_type": "markdown",
   "metadata": {},
   "source": [
    "# Phase exploratoire et modélisation"
   ]
  },
  {
   "cell_type": "markdown",
   "metadata": {},
   "source": [
    "## Exploration et prédiction du modèle choisi"
   ]
  },
  {
   "cell_type": "code",
   "execution_count": 23,
   "metadata": {},
   "outputs": [],
   "source": [
    "from sklearn.ensemble import RandomForestRegressor\n",
    "from sklearn.model_selection import train_test_split, cross_val_score, GridSearchCV"
   ]
  },
  {
   "cell_type": "code",
   "execution_count": 24,
   "metadata": {},
   "outputs": [
    {
     "name": "stdout",
     "output_type": "stream",
     "text": [
      "X shape: (1137, 14)\n",
      "y shape: (1137,)\n"
     ]
    }
   ],
   "source": [
    "X = df.drop(['prix', 'Asus','Intel Core i3','X Go RAM'], axis=1).values\n",
    "print(\"X shape:\",X.shape)\n",
    "y = df.prix.values\n",
    "print(\"y shape:\",y.shape)\n",
    "X_tr, X_te, y_tr, y_te = train_test_split(X, y, test_size=0.25, random_state=42)"
   ]
  },
  {
   "cell_type": "code",
   "execution_count": 25,
   "metadata": {},
   "outputs": [
    {
     "data": {
      "text/html": [
       "<div>\n",
       "<style scoped>\n",
       "    .dataframe tbody tr th:only-of-type {\n",
       "        vertical-align: middle;\n",
       "    }\n",
       "\n",
       "    .dataframe tbody tr th {\n",
       "        vertical-align: top;\n",
       "    }\n",
       "\n",
       "    .dataframe thead th {\n",
       "        text-align: right;\n",
       "    }\n",
       "</style>\n",
       "<table border=\"1\" class=\"dataframe\">\n",
       "  <thead>\n",
       "    <tr style=\"text-align: right;\">\n",
       "      <th></th>\n",
       "      <th>Modele</th>\n",
       "      <th>Moyenne</th>\n",
       "      <th>Ecart Type</th>\n",
       "    </tr>\n",
       "  </thead>\n",
       "  <tbody>\n",
       "    <tr>\n",
       "      <th>0</th>\n",
       "      <td>RandomForestRegressor(max_depth=100, n_estimat...</td>\n",
       "      <td>0.602786</td>\n",
       "      <td>0.024939</td>\n",
       "    </tr>\n",
       "    <tr>\n",
       "      <th>1</th>\n",
       "      <td>RandomForestRegressor(max_depth=90, n_estimato...</td>\n",
       "      <td>0.597723</td>\n",
       "      <td>0.014380</td>\n",
       "    </tr>\n",
       "    <tr>\n",
       "      <th>2</th>\n",
       "      <td>RandomForestRegressor(max_depth=80, n_estimato...</td>\n",
       "      <td>0.597378</td>\n",
       "      <td>0.013981</td>\n",
       "    </tr>\n",
       "    <tr>\n",
       "      <th>3</th>\n",
       "      <td>RandomForestRegressor(max_depth=80, n_estimato...</td>\n",
       "      <td>0.596276</td>\n",
       "      <td>0.012988</td>\n",
       "    </tr>\n",
       "    <tr>\n",
       "      <th>4</th>\n",
       "      <td>RandomForestRegressor(max_depth=90, n_estimato...</td>\n",
       "      <td>0.596179</td>\n",
       "      <td>0.012427</td>\n",
       "    </tr>\n",
       "  </tbody>\n",
       "</table>\n",
       "</div>"
      ],
      "text/plain": [
       "                                              Modele   Moyenne  Ecart Type\n",
       "0  RandomForestRegressor(max_depth=100, n_estimat...  0.602786    0.024939\n",
       "1  RandomForestRegressor(max_depth=90, n_estimato...  0.597723    0.014380\n",
       "2  RandomForestRegressor(max_depth=80, n_estimato...  0.597378    0.013981\n",
       "3  RandomForestRegressor(max_depth=80, n_estimato...  0.596276    0.012988\n",
       "4  RandomForestRegressor(max_depth=90, n_estimato...  0.596179    0.012427"
      ]
     },
     "execution_count": 25,
     "metadata": {},
     "output_type": "execute_result"
    }
   ],
   "source": [
    "ntp.cherche_le_meilleur_modele(X_tr, y_tr)\n",
    "df_result = pd.read_csv(\"df_result.csv\", sep=\"\\t\")\n",
    "df_result = df_result.drop(['Unnamed: 0'], axis=1)\n",
    "df_result.head()"
   ]
  },
  {
   "cell_type": "code",
   "execution_count": null,
   "metadata": {},
   "outputs": [],
   "source": [
    "ntp.Trouver_meilleur_Random_Forest(X_tr, y_tr)"
   ]
  },
  {
   "cell_type": "markdown",
   "metadata": {},
   "source": [
    "## Evaluation complète du modèle"
   ]
  },
  {
   "cell_type": "code",
   "execution_count": 41,
   "metadata": {},
   "outputs": [],
   "source": [
    "best_model = RandomForestRegressor(max_depth=100, max_features=3, min_samples_leaf=3,\n",
    "                      min_samples_split=10, n_estimators=50)"
   ]
  },
  {
   "cell_type": "code",
   "execution_count": 42,
   "metadata": {},
   "outputs": [
    {
     "name": "stdout",
     "output_type": "stream",
     "text": [
      "Model score 0.6053491488064486\n",
      "Mean Absolute Error (MAE): 0.27758577393180883\n",
      "Mean Squared Error (MSE): 0.12975413168564276\n",
      "Root Mean Squared Error (RMSE): 0.3602140081751996\n",
      "Mean Absolute Percentage Error (MAPE): 4.28\n",
      "Accuracy: 95.72\n"
     ]
    },
    {
     "data": {
      "image/png": "[encoded data removed]",
      "text/plain": [
       "<Figure size 864x576 with 1 Axes>"
      ]
     },
     "metadata": {
      "needs_background": "light"
     },
     "output_type": "display_data"
    }
   ],
   "source": [
    "ntp.evaluation(best_model,X, y, X_tr, y_tr, X_te, y_te)"
   ]
  },
  {
   "cell_type": "code",
   "execution_count": null,
   "metadata": {},
   "outputs": [],
   "source": []
  }
 ],
 "metadata": {
  "kernelspec": {
   "display_name": "Python 3",
   "language": "python",
   "name": "python3"
  },
  "language_info": {
   "codemirror_mode": {
    "name": "ipython",
    "version": 3
   },
   "file_extension": ".py",
   "mimetype": "text/x-python",
   "name": "python",
   "nbconvert_exporter": "python",
   "pygments_lexer": "ipython3",
   "version": "3.8.3"
  }
 },
 "nbformat": 4,
 "nbformat_minor": 4
}
